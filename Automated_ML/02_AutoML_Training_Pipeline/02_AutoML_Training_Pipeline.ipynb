{
 "cells": [
  {
   "cell_type": "markdown",
   "metadata": {},
   "source": [
    "Copyright (c) Microsoft Corporation. All rights reserved."
   ]
  },
  {
   "cell_type": "markdown",
   "metadata": {},
   "source": [
    "Licensed under the MIT License."
   ]
  },
  {
   "cell_type": "markdown",
   "metadata": {},
   "source": [
    "![Impressions](https://PixelServer20190423114238.azurewebsites.net/api/impressions/MachineLearningNotebooks/how-to-use-azureml/automated-machine-learning/manymodels/02_Training/02_Training_Pipeline.png)"
   ]
  },
  {
   "cell_type": "markdown",
   "metadata": {},
   "source": [
    "# トレーニング パイプライン - 自動 ML\r\n",
    "_**自動機械学習を使用した Many models のトレーニング**_\r\n",
    "\r\n",
    "---\r\n",
    "\r\n",
    "このノートブックでは、自動機械学習を使用して 11,973 のモデルをトレーニングおよび登録する方法を示します。11,973 モデルのトレーニングプロセスを並列化するために AutoMLPipelineBuilder を利用します。このノートブックでは、オレンジジュースの販売データセットを使用して、各ブランドと各店舗のオレンジジュースの販売量を予測しています。データの詳細については、データ準備ノートブックを参照してください。\r\n",
    "\r\n",
    "<span style=\"color:red\"><b>注: ワークスペースごとに並列実行できる実行の数には制限があり、現時点ではワークスペースごとに並列処理を 1 つの実験ごとに最大 20 回に設定することをお勧めします。ユーザーがより多くの並列処理を必要とし、この制限を増やした場合、要求数過多数エラー (HTTP 429) が発生する可能性があります。 </b></span>"
   ]
  },
  {
   "cell_type": "markdown",
   "metadata": {},
   "source": [
    "<span style=\"color:red\"><b> AutoML の依存関係が一貫していることを確認するために、最新バージョンの SDK を使用してください。</b></span>"
   ]
  },
  {
   "cell_type": "code",
   "execution_count": null,
   "metadata": {},
   "outputs": [],
   "source": [
    "#!pip install --upgrade azureml-sdk[automl]"
   ]
  },
  {
   "cell_type": "markdown",
   "metadata": {},
   "source": [
    "Many models に必要な azureml-contrib-automl-automl-pipeline-steps パッケージをインストールします。"
   ]
  },
  {
   "cell_type": "code",
   "execution_count": null,
   "metadata": {},
   "outputs": [],
   "source": [
    "# !pip install azureml-contrib-automl-pipeline-steps"
   ]
  },
  {
   "cell_type": "markdown",
   "metadata": {},
   "source": [
    "### 前提条件"
   ]
  },
  {
   "cell_type": "markdown",
   "metadata": {},
   "source": [
    "この時点で、次の内容が完了している必要があります：\r\n",
    "\r\n",
    "1. [00_Setup_AML_Workspace notebook](../../00_Setup_AML_Workspace.ipynb) を使用して、AML ワークスペースが作成されていること\r\n",
    "2. [01_Data_Preparation.ipynb](../../01_Data_Preparation.ipynb) を実行してデータセットを作成していること"
   ]
  },
  {
   "cell_type": "markdown",
   "metadata": {},
   "source": [
    "## 1.0 ワークスペース、データストア、実験の設定"
   ]
  },
  {
   "cell_type": "code",
   "execution_count": null,
   "metadata": {},
   "outputs": [],
   "source": [
    "import azureml.core\r\n",
    "from azureml.core import Workspace, Datastore\r\n",
    "import pandas as pd\r\n",
    "\r\n",
    "# ワークスペースのセットアップ\r\n",
    "ws= Workspace.from_config()\r\n",
    "\r\n",
    "# ワークスペースの確認\r\n",
    "ws.get_details()\r\n",
    "\r\n",
    "\r\n",
    "# データストアのセットアップ\r\n",
    "dstore = ws.get_default_datastore()\r\n",
    "\r\n",
    "output = {}\r\n",
    "output['SDK version'] = azureml.core.VERSION\r\n",
    "output['Subscription ID'] = ws.subscription_id\r\n",
    "output['Workspace'] = ws.name\r\n",
    "output['Resource Group'] = ws.resource_group\r\n",
    "output['Location'] = ws.location\r\n",
    "output['Default datastore name'] = dstore.name\r\n",
    "pd.set_option('display.max_colwidth', -1)\r\n",
    "outputDf = pd.DataFrame(data = output, index = [''])\r\n",
    "outputDf.T"
   ]
  },
  {
   "cell_type": "markdown",
   "metadata": {},
   "source": [
    "### 実験の選択"
   ]
  },
  {
   "cell_type": "code",
   "execution_count": null,
   "metadata": {},
   "outputs": [],
   "source": [
    "from azureml.core import Experiment\n",
    "\n",
    "experiment = Experiment(ws, 'manymodels-training-pipeline')\n",
    "\n",
    "print('Experiment name: ' + experiment.name)"
   ]
  },
  {
   "cell_type": "markdown",
   "metadata": {},
   "source": [
    "## 2.0 登録済みの FileDatasets を呼び出す"
   ]
  },
  {
   "cell_type": "markdown",
   "metadata": {},
   "source": [
    "ここでは 11,973 のデータセットと AutoMLPipelineBuilder を使用して、11,973 の時系列を構築し、各店舗ブランドの数量を予測します。"
   ]
  },
  {
   "cell_type": "markdown",
   "metadata": {},
   "source": [
    "各データセットは、7 つの列と 122 行を含むブランドの 2 年間のオレンジジュース売上データを表します。"
   ]
  },
  {
   "cell_type": "markdown",
   "metadata": {},
   "source": [
    "まず、ワークスペースにデータセットを登録する必要があります。データの準備ノートブックでは、2 つのデータセットをワークスペースに登録する方法を示します。\r\n",
    "\r\n",
    "登録済みの 'oj_data_small' FileDatasets には、最初の 10 個の csv ファイルが含まれ、'oj_data' には 11,973 個の csv ファイルがすべて含まれます。以下のセルでは filedatasets_10_models_input または filedatasets_all_models_inputs のどちらを AutoMLPipelineBuilder に渡すかを選択できます。\r\n",
    "\r\n",
    "**最初に filedatasets_10_models** で試して、すべてが正常に実行されていることを確認してから、filedatasets_all_modelsにスケールアップすることをお勧めします。"
   ]
  },
  {
   "cell_type": "code",
   "execution_count": null,
   "metadata": {},
   "outputs": [],
   "source": [
    "from azureml.core.dataset import Dataset\n",
    "\n",
    "filedst_10_models = Dataset.get_by_name(ws, name='oj_data_small_train')\n",
    "filedst_10_models_input = filedst_10_models.as_named_input('train_10_models')\n",
    "\n",
    "#filedst_all_models = Dataset.get_by_name(ws, name='oj_data_train')\n",
    "#filedst_all_models_inputs = filedst_all_models.as_named_input('train_all_models')"
   ]
  },
  {
   "cell_type": "markdown",
   "metadata": {},
   "source": [
    "## 3.0 トレーニング パイプラインの構築\r\n",
    "データセット、ワークスペースおよびデータストアが設定できたので、トレーニング用のパイプラインにまとめることができます。"
   ]
  },
  {
   "cell_type": "markdown",
   "metadata": {},
   "source": [
    "### コンピュート ターゲットの選択"
   ]
  },
  {
   "cell_type": "markdown",
   "metadata": {},
   "source": [
    "現在 AutoMLPipelineBuilder は AMLCompute のみをサポートしています。失敗した場合は、別のコンピュート クラスターに変更できます。\r\n",
    "\r\n",
    "以下は AutoMLPipelineBuilder に渡すコンピュート ターゲットです。"
   ]
  },
  {
   "cell_type": "code",
   "execution_count": null,
   "metadata": {},
   "outputs": [],
   "source": [
    "from azureml.core.compute import AmlCompute\r\n",
    "from azureml.core.compute import ComputeTarget\r\n",
    "\r\n",
    "# クラスタの名前を選択\r\n",
    "amlcompute_cluster_name = \"cpucluster\"\r\n",
    "\r\n",
    "found = False\r\n",
    "# ワークスペースにこのコンピュート ターゲットが存在しているか確認\r\n",
    "cts = ws.compute_targets\r\n",
    "if amlcompute_cluster_name in cts and cts[amlcompute_cluster_name].type == 'AmlCompute':\r\n",
    "    found = True\r\n",
    "    print('既存のコンピュート ターゲットがあります。')\r\n",
    "    compute = cts[amlcompute_cluster_name]\r\n",
    "    \r\n",
    "if not found:\r\n",
    "    print('新しいコンピュート ターゲットを作成しています...')\r\n",
    "    provisioning_config = AmlCompute.provisioning_configuration(vm_size='STANDARD_D16S_V3',\r\n",
    "                                                           min_nodes=2,\r\n",
    "                                                           max_nodes=20)\r\n",
    "    # クラスタの作成\r\n",
    "    compute = ComputeTarget.create(ws, amlcompute_cluster_name, provisioning_config)\r\n",
    "    \r\n",
    "print('クラスタの状態を確認中...')\r\n",
    "# 最小ノード数と特定のタイムアウトをポーリングできます。\r\n",
    "# min_node_count が提供されていない場合は、クラスターのスケール設定が使用されます。\r\n",
    "compute.wait_for_completion(show_output = True, min_node_count = None, timeout_in_minutes = 20)\r\n",
    "    \r\n",
    "# 現在の AmlCompute ステータスの詳細なビューは、get_status() を使用して確認できます。"
   ]
  },
  {
   "cell_type": "markdown",
   "metadata": {},
   "source": [
    "## トレーニング\r\n",
    "\r\n",
    "このディクショナリは [AutoML 設定](https://docs.microsoft.com/ja-jp/python/api/azureml-train-automl-client/azureml.train.automl.automlconfig.automlconfig?view=azure-ml-py#parameters)を定義し、この予測タスクの時間列の名前と最大予測期間を追加します。\r\n",
    "\r\n",
    "|プロパティ|説明|\r\n",
    "|-|-|\r\n",
    "|**task**|タスクは予測（forecasting）を指定します|\r\n",
    "|**primary_metric**|これは最適化するメトリックです。<br> 予測では、次のプライマリ指標がサポートされます。 <br><i>spearman_correlation</i><br><i>normalized_root_mean_squared_error</i><br><i>r2_score</i><br><i>normalized_mean_absolute_error</i>|\r\n",
    "|**blocked_models**|blocked_model で指定されたモデルは AutoML で使用されません。サポートされているすべてのモデルは[こちら](https://docs.microsoft.com/ja-jp/python/api/azureml-train-automl-client/azureml.train.automl.constants.supportedmodels.forecasting?view=azure-ml-py)からご覧いただけます。|\r\n",
    "|**iterations**|トレーニングするモデルの数。これはオプションですが、シナリオによっては重要な制御内容となります。|\r\n",
    "|**iteration_timeout_minutes**|モデルをトレーニングできる最大時間 (分単位) です。これはオプションであり、データセットによって異なります。データセットのトレーニングに必要な時間を帖佐の上設定してください。OJ データセットの場合は、20 分に設定します。|\r\n",
    "|**experiment_timeout_hours**|実験が終了するまでにかかる最大時間を時間単位で指定できます。|\r\n",
    "|**label_column_name**|ラベル列の名前。|\r\n",
    "|**n_cross_validations**|交差検証の分割数。ローリングオリジン検証は、時系列を一定の方法で分割するために使用されます。|\r\n",
    "|**enable_early_stopping**|スコアが短期的に改善していない場合に早期終了を有効にするためのフラグです。|\r\n",
    "|**time_column_name**|時刻列データの列名。|\r\n",
    "|**max_horizon**|過去のトレーニング データから予測したい期間数。期間はデータから推測されます。|\r\n",
    "|**grain_column_names**|同じタイムスタンプを持つ複数の行を持つデータ内の時系列を一意に識別するために使用される列名。|\r\n",
    "|**partition_column_names**|モデルをグループ化するために使用する列の名前です。時系列の場合、グループは個々の時系列を分割してはなりません。つまり、各グループには、1 つ以上の時系列が含まれている必要があります。|\r\n",
    "|**track_child_runs**|子の実行の追跡を無効にするフラグです。フラグが False に設定されている場合は、Best run (メトリックとモデル) のみが追跡されます。|\r\n",
    "|**pipeline_fetch_max_batch_size**|トレーニングのために一度に取得するパイプライン (トレーニング アルゴリズム) の数を指定し、大規模なトレーニング時のスロットリングを減らすことができます。|"
   ]
  },
  {
   "cell_type": "code",
   "execution_count": null,
   "metadata": {},
   "outputs": [],
   "source": [
    "import logging\r\n",
    "\r\n",
    "partition_column_names = ['Store', 'Brand']\r\n",
    "\r\n",
    "automl_settings = {\r\n",
    "    \"task\" : 'forecasting',\r\n",
    "    \"primary_metric\" : 'normalized_root_mean_squared_error',\r\n",
    "    \"iteration_timeout_minutes\" : 10, # これはデータセットに基づいて変更する必要があります。この値を設定するまでにトレーニングにかかる時間を確認するようお願いします\r\n",
    "    \"iterations\" : 15,\r\n",
    "    \"experiment_timeout_hours\" : 1,\r\n",
    "    \"label_column_name\" : 'Quantity',\r\n",
    "    \"n_cross_validations\" : 3,\r\n",
    "    \"verbosity\" : logging.INFO, \r\n",
    "    \"debug_log\": 'automl_oj_sales_debug.txt',\r\n",
    "    \"time_column_name\": 'WeekStarting',\r\n",
    "    \"max_horizon\" : 20,\r\n",
    "    \"track_child_runs\": False,\r\n",
    "    \"partition_column_names\": partition_column_names,\r\n",
    "    \"grain_column_names\": ['Store', 'Brand'],\r\n",
    "    \"pipeline_fetch_max_batch_size\": 15\r\n",
    "}"
   ]
  },
  {
   "cell_type": "markdown",
   "metadata": {},
   "source": [
    "### Many modelsトレーニングステップを構築する"
   ]
  },
  {
   "cell_type": "markdown",
   "metadata": {},
   "source": [
    "AutoMLPipelineBuilder は Many models のトレーニング ステップを構築するために使用されます。ユース ケースに適したワーカーとノードの数を決定する必要があります。process_count_per_node は、コンピュート VM のコア数に基づいています。node_count は、使用するマスターノードの数を決定し、ノード数を増やすとトレーニングプロセスがスピードアップします。\r\n",
    "\r\n",
    "* <b>experiment</b>: 現在の実験。\r\n",
    "\r\n",
    "* <b>automl_settings</b>: 自動 ML 設定ディクショナリ。\r\n",
    "\r\n",
    "* <b>train_data</b>: トレーニングするデータセット。\r\n",
    "\r\n",
    "* <b>compute_target</b>: トレーニング用のコンピュート ターゲット。\r\n",
    "\r\n",
    "* <b>partition_column_names</b>: パーティション列名。\r\n",
    "\r\n",
    "* <b>node_count</b>: ユーザー スクリプトの実行に使用するコンピューティング ノードの数。3から始めることをお勧めしまうが、トレーニング時間が長すぎる場合には node_countを増やします。\r\n",
    "\r\n",
    "* <b>process_count_per_node</b>: ノードあたりのプロセス数。\r\n",
    "\r\n",
    "* <b>run_invocation_timeout</b>: run() メソッドの呼び出しタイムアウト (秒単位)。タイムアウトは、AutoML の実行の最大トレーニング時間 (及び多少のバッファ) 内に設定する必要があります。デフォルトは 60 秒です。\r\n",
    "\r\n",
    "* <b>output_datastore</b>: トレーニング結果を出力する出力用データストアを指定します。\r\n",
    "\r\n",
    "* <b>train_env(オプション)</b>: トレーニングに使用するトレーニング環境定義をオプションで提供できます。\r\n",
    "\r\n",
    "<span style=\"color:red\"><b>注: ワークスペースごとに並列実行できる実行の数には制限があり、現在は、ワークスペースごとに並列処理を 1 つの実験あたり最大 320 回に設定することをお勧めします。ユーザーがより多くの並列処理を必要とし、この制限を増やす場合、要求数過多エラー (HTTP 429) が発生する可能性があります。 </b></span>"
   ]
  },
  {
   "cell_type": "code",
   "execution_count": null,
   "metadata": {},
   "outputs": [],
   "source": [
    "#!pip install azureml.contrib.automl.pipeline.steps"
   ]
  },
  {
   "cell_type": "code",
   "execution_count": null,
   "metadata": {},
   "outputs": [],
   "source": [
    "from azureml.contrib.automl.pipeline.steps import AutoMLPipelineBuilder\n",
    "\n",
    "train_steps = AutoMLPipelineBuilder.get_many_models_train_steps(experiment=experiment,\n",
    "                                                                automl_settings=automl_settings,\n",
    "                                                                train_data=filedst_10_models_input,\n",
    "                                                                compute_target=compute,\n",
    "                                                                partition_column_names=partition_column_names,\n",
    "                                                                node_count=2,\n",
    "                                                                process_count_per_node=8,\n",
    "                                                                run_invocation_timeout=3700,\n",
    "                                                                output_datastore=dstore)"
   ]
  },
  {
   "cell_type": "markdown",
   "metadata": {},
   "source": [
    "## 4.0 トレーニング パイプラインの実行"
   ]
  },
  {
   "cell_type": "markdown",
   "metadata": {},
   "source": [
    "### 実行するパイプラインを送信する"
   ]
  },
  {
   "cell_type": "markdown",
   "metadata": {},
   "source": [
    "次に、実行するパイプラインを送信します。トレーニング パイプライン全体は、現在の AutoMLPipelineBuilder 設定で 1台の STANDARD_D16S_V3 VM を使用して約1時間11分かかります。"
   ]
  },
  {
   "cell_type": "code",
   "execution_count": null,
   "metadata": {},
   "outputs": [],
   "source": [
    "from azureml.pipeline.core import Pipeline\n",
    "#from azureml.widgets import RunDetails\n",
    "\n",
    "pipeline = Pipeline(workspace=ws, steps=train_steps)\n",
    "run = experiment.submit(pipeline)\n",
    "#RunDetails(run).show()"
   ]
  },
  {
   "cell_type": "markdown",
   "metadata": {},
   "source": [
    "jupyter ノートブックでトレーニング プロセスを監視する場合は、以下のコマンドを実行します。トレーニング中にログをライブストリーミングします。\r\n",
    "\r\n",
    "**注**: このコマンドはコンピューティング VM（旧Notebook VM）では動作しない場合もありますが、ローカル ラップトップでは動作します。"
   ]
  },
  {
   "cell_type": "code",
   "execution_count": null,
   "metadata": {},
   "outputs": [],
   "source": [
    "run.wait_for_completion(show_output=True)"
   ]
  },
  {
   "cell_type": "markdown",
   "metadata": {},
   "source": [
    "正常にトレーニングされ、自動MLモデルが登録されました。"
   ]
  },
  {
   "cell_type": "markdown",
   "metadata": {},
   "source": [
    "## 5.0 トレーニング パイプラインの出力をレビューする"
   ]
  },
  {
   "cell_type": "markdown",
   "metadata": {},
   "source": [
    "トレーニング パイプラインは、モデルをトレーニングし、ワークスペースに登録します。トレーニング済みモデルは、Azure Machine Learning Studio の 'Models' の中で確認できます。トレーニングに問題がある場合は、パイプライン実行の中にある実行された 'many-models-training' の中にある 'Logs' 内のログで実行状態を確認することができます。\r\n",
    "詳細は logs/user/worker/<ip> の中にある stdout と stderr をご覧ください\r\n"
   ]
  },
  {
   "cell_type": "markdown",
   "metadata": {},
   "source": [
    "## 6.0 登録されたモデル名およびタグと共に AutoML 実行の一覧を取得する"
   ]
  },
  {
   "cell_type": "markdown",
   "metadata": {},
   "source": [
    "次のコード スニペットは、実験のすべての automl 実行を反復処理し、詳細を一覧表示します。\r\n",
    "\r\n",
    "**Framework** - AutoML, **Dataset** - 入力データセット, **Run** - AutoML 実行ID, **Status** - AutoML 実行ステータス,  **Model** - 登録モデル名, **Tags** - モデルのタグ, **StartTime** - 開始時間, **EndTime** - 終了時刻, **ErrorType** - ErrorType, **ErrorCode** - ErrorCode, **ErrorMessage** - エラーメッセージ"
   ]
  },
  {
   "cell_type": "code",
   "execution_count": null,
   "metadata": {},
   "outputs": [],
   "source": [
    "from scripts.helper import get_training_output\n",
    "import os\n",
    "\n",
    "training_results_name = \"training_results\"\n",
    "training_output_name = \"many_models_training_output\"\n",
    "\n",
    "training_file = get_training_output(run, training_results_name, training_output_name)\n",
    "all_columns = [\"Framework\", \"Dataset\", \"Run\", \"Status\", \"Model\", \"Tags\", \"StartTime\", \"EndTime\" , \"ErrorType\", \"ErrorCode\", \"ErrorMessage\" ]\n",
    "df = pd.read_csv(training_file, delimiter=\" \", header=None, names=all_columns)\n",
    "training_csv_file = \"training.csv\"\n",
    "df.to_csv(training_csv_file)\n",
    "print(\"Training output has\", df.shape[0], \"rows. Please open\", os.path.abspath(training_csv_file), \"to browse through all the output.\")"
   ]
  },
  {
   "cell_type": "markdown",
   "metadata": {},
   "source": [
    "## 7.0 パイプラインの発行とスケジュール (オプション)"
   ]
  },
  {
   "cell_type": "markdown",
   "metadata": {},
   "source": [
    "### 7.1 パイプラインを発行する\r\n",
    "\r\n",
    "満足できるパイプラインを作成したら、パイプラインを発行して、後からプログラムで呼び出すことができます。パイプラインの発行と呼び出しの詳細については、この[チュートリアル](https://docs.microsoft.com/ja-jp/azure/machine-learning/how-to-create-machine-learning-pipelines#publish-a-pipeline)を参照してください。"
   ]
  },
  {
   "cell_type": "code",
   "execution_count": null,
   "metadata": {},
   "outputs": [],
   "source": [
    "# published_pipeline = pipeline.publish(name = 'automl_train_many_models',\n",
    "#                                      description = 'train many models',\n",
    "#                                      version = '1',\n",
    "#                                      continue_on_step_failure = False)"
   ]
  },
  {
   "cell_type": "markdown",
   "metadata": {},
   "source": [
    "### 7.2 パイプラインのスケジュール実行\r\n",
    "また、時間ベースまたは変更ベースのスケジュールで実行するように[パイプラインをスケジュール](https://docs.microsoft.com/ja-jp/azure/machine-learning/how-to-trigger-published-pipeline)することもできます。これは、毎月、またはデータドリフトなどの別のトリガーに基づいて、モデルを自動的に再トレーニングするために使用できます。"
   ]
  },
  {
   "cell_type": "code",
   "execution_count": null,
   "metadata": {},
   "outputs": [],
   "source": [
    "# from azureml.pipeline.core import Schedule, ScheduleRecurrence\n",
    "    \n",
    "# training_pipeline_id = published_pipeline.id\n",
    "\n",
    "# recurrence = ScheduleRecurrence(frequency=\"Month\", interval=1, start_time=\"2020-01-01T09:00:00\")\n",
    "# recurring_schedule = Schedule.create(ws, name=\"automl_training_recurring_schedule\", \n",
    "#                             description=\"Schedule Training Pipeline to run on the first day of every month\",\n",
    "#                             pipeline_id=training_pipeline_id, \n",
    "#                             experiment_name=experiment.name, \n",
    "#                             recurrence=recurrence)"
   ]
  },
  {
   "cell_type": "markdown",
   "metadata": {},
   "source": [
    "## 8.0 ワークスペースの保守(オプション)"
   ]
  },
  {
   "cell_type": "markdown",
   "metadata": {},
   "source": [
    "### 8.1 実行中の全ての実行をキャンセルする\r\n",
    "\r\n",
    "特定の実験で実行され続けている実行をキャンセルします。"
   ]
  },
  {
   "cell_type": "code",
   "execution_count": null,
   "metadata": {},
   "outputs": [],
   "source": [
    "# from scripts.helper import cancel_runs_in_experiment\r\n",
    "# failed_experiment =  'ここを変更して、実験名を入力してください'\r\n",
    "# # 次のスクリプトは、この実験内で現在実行されているすべての実行をキャンセルします\r\n",
    "# cancel_runs_in_experiment(ws, failed_experiment)"
   ]
  }
 ],
 "metadata": {
  "authors": [
   {
    "name": "deeptim"
   }
  ],
  "kernelspec": {
   "display_name": "Python 3.9.1 64-bit ('vscpy39': conda)",
   "name": "python391jvsc74a57bd03f5a1eed9b4ace55e909398ac91c318c6556c0b2dba69b98588c80e77c44e826"
  },
  "language_info": {
   "codemirror_mode": {
    "name": "ipython",
    "version": 3
   },
   "file_extension": ".py",
   "mimetype": "text/x-python",
   "name": "python",
   "nbconvert_exporter": "python",
   "pygments_lexer": "ipython3",
   "version": "3.9.1-final"
  },
  "nteract": {
   "version": "nteract-front-end@1.0.0"
  }
 },
 "nbformat": 4,
 "nbformat_minor": 2
}