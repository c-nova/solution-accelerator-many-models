{
 "cells": [
  {
   "cell_type": "markdown",
   "metadata": {},
   "source": [
    "Copyright (c) Microsoft Corporation. All rights reserved.\n",
    "\n",
    "Licensed under the MIT License."
   ]
  },
  {
   "cell_type": "markdown",
   "metadata": {},
   "source": [
    "# AML ワークスペースのセットアップ\r\n",
    "---\r\n",
    "\r\n",
    "このノートブックでは、このソリューション アクセラレータの環境を構成するために必要なすべての手順について説明します:\r\n",
    "\r\n",
    "1. ワークスペースへの接続\r\n",
    "2. config.json の作成します (AML コンピューティング インスタンスで実行している場合はスキップできます)\r\n",
    "3. コンピューティング クラスターの作成"
   ]
  },
  {
   "cell_type": "markdown",
   "metadata": {},
   "source": [
    "## 1.0 ワークスペースへの接続\r\n",
    "\r\n",
    "このソリューション アクセラレータを AML ワークスペースに接続します。この手順は、コンピューティング インスタンス（Notebook VM）を使用している場合は必要ありません。\r\n",
    "\r\n",
    "次のセルを使用すると、ワークスペースのパラメータを指定できます。このセルは、python メソッド os.getenv を使用して、オートメーションに役立つ値を環境変数から読み取ります。環境変数が存在しない場合、パラメータは指定されたデフォルト値に設定されます。"
   ]
  },
  {
   "cell_type": "code",
   "execution_count": null,
   "metadata": {},
   "outputs": [],
   "source": [
    "import os\n",
    "\n",
    "subscription_id = os.getenv(\"SUBSCRIPTION_ID\", default=\"<my-subscription-id>\")\n",
    "resource_group = os.getenv(\"RESOURCE_GROUP\", default=\"<my-resource-group>\")\n",
    "workspace_name = os.getenv(\"WORKSPACE_NAME\", default=\"<my-workspace-name>\")\n",
    "workspace_region = os.getenv(\"WORKSPACE_REGION\", default=\"westus2\")"
   ]
  },
  {
   "cell_type": "code",
   "execution_count": null,
   "metadata": {},
   "outputs": [],
   "source": [
    "from azureml.core import Workspace\r\n",
    "\r\n",
    "try:\r\n",
    "    ws = Workspace(subscription_id=subscription_id, \r\n",
    "                   resource_group=resource_group, \r\n",
    "                   workspace_name=workspace_name)\r\n",
    "    print(\"ワークスペースの構成に成功しました。以下のワークスペース作成手順をスキップします\")\r\n",
    "except:\r\n",
    "    print(\"ワークスペースが存在しません。ワークスペースを作成します\")\r\n",
    "    ws = Workspace.create(name=workspace_name, subscription_id=subscription_id, resource_group=resource_group,\r\n",
    "                            location=workspace_region, create_resource_group=True, sku='enterprise', exist_ok=True)"
   ]
  },
  {
   "cell_type": "code",
   "execution_count": null,
   "metadata": {},
   "outputs": [],
   "source": [
    "ws.get_details()"
   ]
  },
  {
   "cell_type": "markdown",
   "metadata": {},
   "source": [
    "## 2.0 構成ファイルへの書き込み\r\n",
    "ワークスペースの詳細を config.json ファイルに書き込みます:"
   ]
  },
  {
   "cell_type": "code",
   "execution_count": null,
   "metadata": {},
   "outputs": [],
   "source": [
    "ws.write_config()"
   ]
  },
  {
   "cell_type": "markdown",
   "metadata": {},
   "source": [
    "## 3.0 コンピューティング クラスターの作成\r\n",
    "\r\n",
    "トレーニングおよびバッチ予測用のコンピューティング クラスターが必要です。これは 1 回限りのセットアップなので、今後のノートブックで再実行する必要はありませんが、次のノートブックでは同じクラスター名を使用してこのクラスターを参照する必要があります。"
   ]
  },
  {
   "cell_type": "code",
   "execution_count": null,
   "metadata": {},
   "outputs": [],
   "source": [
    "# CPU クラスタ名を命名\r\n",
    "cpu_cluster_name = 'cpucluster'"
   ]
  },
  {
   "cell_type": "markdown",
   "metadata": {},
   "source": [
    "STANDARD_D13_V2 コンピュート クラスターを作成します。D シリーズ VM は、高いコンピューティング能力と一時的なディスク パフォーマンスを必要とするタスクに使用されます。この[ページ](https://docs.microsoft.com/ja-jp/azure/virtual-machines/sizes-general)では、ユース ケースに最適な方法を決定するために、VM のサイズに関する詳細を説明します。"
   ]
  },
  {
   "cell_type": "code",
   "execution_count": null,
   "metadata": {},
   "outputs": [],
   "source": [
    "from azureml.core.compute import ComputeTarget, AmlCompute\r\n",
    "from azureml.core.compute_target import ComputeTargetException\r\n",
    "\r\n",
    "# クラスタが存在していないことを確認\r\n",
    "try:\r\n",
    "    cpu_cluster = ComputeTarget(workspace=ws, name=cpu_cluster_name)\r\n",
    "    print('既存のクラスターを検出したため、代わりにこのクラスターを指定しました。')\r\n",
    "except ComputeTargetException:\r\n",
    "    compute_config = AmlCompute.provisioning_configuration(vm_size='STANDARD_D13_V2',\r\n",
    "                                                           min_nodes=0,\r\n",
    "                                                           max_nodes=20)\r\n",
    "    cpu_cluster = ComputeTarget.create(ws, cpu_cluster_name, compute_config)\r\n",
    "    cpu_cluster.wait_for_completion(show_output=True)"
   ]
  },
  {
   "cell_type": "markdown",
   "metadata": {},
   "source": [
    "## 次のステップ\r\n",
    "\r\n",
    "以上でAML ワークスペースの構成が完了しました。次に [01_Data_Preparation.ipynb](01_Data_Preparation.ipynb) の手順に従います。"
   ]
  }
 ],
 "metadata": {
  "authors": [
   {
    "name": "roastala"
   }
  ],
  "kernelspec": {
   "display_name": "Python 3.9.1 64-bit ('vscpy39': conda)",
   "name": "python391jvsc74a57bd03f5a1eed9b4ace55e909398ac91c318c6556c0b2dba69b98588c80e77c44e826"
  },
  "language_info": {
   "codemirror_mode": {
    "name": "ipython",
    "version": 3
   },
   "file_extension": ".py",
   "mimetype": "text/x-python",
   "name": "python",
   "nbconvert_exporter": "python",
   "pygments_lexer": "ipython3",
   "version": "3.9.1-final"
  }
 },
 "nbformat": 4,
 "nbformat_minor": 2
}